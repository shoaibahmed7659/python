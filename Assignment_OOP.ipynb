{
 "cells": [
  {
   "cell_type": "markdown",
   "id": "65b8dc82",
   "metadata": {},
   "source": [
    "# Assignment_OOP\n",
    "\n",
    "### Shoaib Ahmed Khan\n",
    "### PIAIC 159833\n"
   ]
  },
  {
   "cell_type": "markdown",
   "id": "947580b7",
   "metadata": {},
   "source": [
    "importing mother and father attribute\n",
    "adding new attributes in child"
   ]
  },
  {
   "cell_type": "code",
   "execution_count": 1,
   "id": "1c312ac8",
   "metadata": {},
   "outputs": [],
   "source": [
    "class Father(): \n",
    "    def __init__(this):\n",
    "        this.name= \"a\"\n",
    "        this.fname= None\n",
    "        this.hair_colour= None\n",
    "        this.eyecolour= None\n",
    "        \n",
    "    def speak():\n",
    "        return \"he can speak 4 languages\"\n",
    "    \n",
    "\n",
    "# for refrence purpose only: this concept(below) is taken from book name Python Cookbook 3rd Edition by David and Brian Chap 8 topic 18\n",
    "#8.18. Extending Classes with Mixins (\"of course without Sir Qasim's instructions it would be nothing\")\n",
    "\n",
    "    \n",
    "class Mother(Father):\n",
    "    def __init__(this):\n",
    "        super(). __init__()  #this super is to pass down attributes for child\n",
    "#this is the easiest way i can find to pass down the attributes of more than one parent class into a child class\n",
    "        this.name1= \"b\"\n",
    "        this.fname1= None\n",
    "        this.hair_colour1= None\n",
    "        this.eyecolour1= None\n",
    "        \n",
    "    def cook():\n",
    "        return \"she can cook italian food\"\n",
    "    \n",
    "class Child(Mother):\n",
    "    def __init__(this):\n",
    "        super(). __init__()\n",
    "        this.play= None\n",
    "        this.run= None\n",
    "        \n",
    "    def newhim():\n",
    "        return \"new boy\"\n",
    "    "
   ]
  },
  {
   "cell_type": "code",
   "execution_count": 2,
   "id": "2798aabc",
   "metadata": {},
   "outputs": [],
   "source": [
    "f1= Father()\n",
    "m1= Mother()\n",
    "c1= Child()"
   ]
  },
  {
   "cell_type": "code",
   "execution_count": 3,
   "id": "4d5f97f8",
   "metadata": {},
   "outputs": [
    {
     "data": {
      "text/plain": [
       "['cook',\n",
       " 'eyecolour',\n",
       " 'eyecolour1',\n",
       " 'fname',\n",
       " 'fname1',\n",
       " 'hair_colour',\n",
       " 'hair_colour1',\n",
       " 'name',\n",
       " 'name1',\n",
       " 'newhim',\n",
       " 'play',\n",
       " 'run',\n",
       " 'speak']"
      ]
     },
     "execution_count": 3,
     "metadata": {},
     "output_type": "execute_result"
    }
   ],
   "source": [
    "[i for i in dir(c1) if \"__\" not in i]"
   ]
  },
  {
   "cell_type": "code",
   "execution_count": 4,
   "id": "fbeff26c",
   "metadata": {},
   "outputs": [
    {
     "name": "stdout",
     "output_type": "stream",
     "text": [
      "b\n",
      "a\n",
      "None\n"
     ]
    }
   ],
   "source": [
    "print(c1.name1)\n",
    "print(c1.name)\n",
    "print(c1.eyecolour1)"
   ]
  },
  {
   "cell_type": "markdown",
   "id": "1740fcc7",
   "metadata": {},
   "source": []
  },
  {
   "cell_type": "markdown",
   "id": "d888d651",
   "metadata": {},
   "source": [
    "Operator Overloading"
   ]
  },
  {
   "cell_type": "code",
   "execution_count": null,
   "id": "c898ab06",
   "metadata": {},
   "outputs": [],
   "source": [
    "#for refrence:https://www.codesdope.com/blog/article/operator-overloading-in-python/\n",
    "#https://youtu.be/7c-mnmpNYpk"
   ]
  },
  {
   "cell_type": "code",
   "execution_count": 13,
   "id": "5742bd90",
   "metadata": {},
   "outputs": [
    {
     "name": "stdout",
     "output_type": "stream",
     "text": [
      "11\n",
      "56\n"
     ]
    }
   ],
   "source": [
    "a=6+5\n",
    "print(a)\n",
    "a= \"5\" + \"6\"  # \"+\" operator is using for different actions in python\n",
    "print(a)\n",
    "\n",
    "#print(\"5\" + 6)  // TypeError: can only concatenate str (not \"int\") to str\n",
    "\n",
    "\n"
   ]
  },
  {
   "cell_type": "code",
   "execution_count": 12,
   "id": "704fdbbb",
   "metadata": {},
   "outputs": [
    {
     "name": "stdout",
     "output_type": "stream",
     "text": [
      "56\n"
     ]
    }
   ],
   "source": [
    "print(a)  ###because of assignment operator(=) overloading"
   ]
  },
  {
   "cell_type": "code",
   "execution_count": 56,
   "id": "f6b02475",
   "metadata": {},
   "outputs": [],
   "source": [
    "class FullName():\n",
    "        def __init__ (self):\n",
    "            self.user= None\n",
    "            self.firstname= \"Shoaib\"\n",
    "            self.secondname= \" Ahmed\"\n",
    "            return None\n",
    "       \n",
    "        "
   ]
  },
  {
   "cell_type": "code",
   "execution_count": 57,
   "id": "74c10b07",
   "metadata": {},
   "outputs": [],
   "source": [
    "f1=FullName()\n",
    "f2=FullName()"
   ]
  },
  {
   "cell_type": "code",
   "execution_count": 59,
   "id": "08eaa789",
   "metadata": {},
   "outputs": [
    {
     "name": "stdout",
     "output_type": "stream",
     "text": [
      "Shoaib Ahmed\n"
     ]
    }
   ],
   "source": [
    "print(f1.firstname + f1.secondname) #concatination\n"
   ]
  },
  {
   "cell_type": "code",
   "execution_count": null,
   "id": "f9086897",
   "metadata": {},
   "outputs": [],
   "source": []
  }
 ],
 "metadata": {
  "kernelspec": {
   "display_name": "Python 3 (ipykernel)",
   "language": "python",
   "name": "python3"
  },
  "language_info": {
   "codemirror_mode": {
    "name": "ipython",
    "version": 3
   },
   "file_extension": ".py",
   "mimetype": "text/x-python",
   "name": "python",
   "nbconvert_exporter": "python",
   "pygments_lexer": "ipython3",
   "version": "3.9.7"
  }
 },
 "nbformat": 4,
 "nbformat_minor": 5
}
